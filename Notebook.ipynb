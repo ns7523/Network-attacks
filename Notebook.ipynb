{
 "cells": [
  {
   "cell_type": "code",
   "execution_count": 1,
   "metadata": {},
   "outputs": [],
   "source": [
    "import warnings\n",
    "warnings.filterwarnings('ignore')"
   ]
  },
  {
   "cell_type": "code",
   "execution_count": 2,
   "metadata": {},
   "outputs": [],
   "source": [
    "import numpy as np\n",
    "import pandas as pd\n",
    "\n",
    "import matplotlib.pyplot as plt\n",
    "import seaborn as sns"
   ]
  },
  {
   "cell_type": "code",
   "execution_count": 3,
   "metadata": {},
   "outputs": [],
   "source": [
    "from sklearn.model_selection import train_test_split"
   ]
  },
  {
   "cell_type": "code",
   "execution_count": 4,
   "metadata": {},
   "outputs": [],
   "source": [
    "# load data\n",
    "data  = pd.read_csv('kdd_train.csv')"
   ]
  },
  {
   "cell_type": "code",
   "execution_count": 5,
   "metadata": {},
   "outputs": [
    {
     "data": {
      "text/html": [
       "<div>\n",
       "<style scoped>\n",
       "    .dataframe tbody tr th:only-of-type {\n",
       "        vertical-align: middle;\n",
       "    }\n",
       "\n",
       "    .dataframe tbody tr th {\n",
       "        vertical-align: top;\n",
       "    }\n",
       "\n",
       "    .dataframe thead th {\n",
       "        text-align: right;\n",
       "    }\n",
       "</style>\n",
       "<table border=\"1\" class=\"dataframe\">\n",
       "  <thead>\n",
       "    <tr style=\"text-align: right;\">\n",
       "      <th></th>\n",
       "      <th>duration</th>\n",
       "      <th>protocol_type</th>\n",
       "      <th>service</th>\n",
       "      <th>flag</th>\n",
       "      <th>src_bytes</th>\n",
       "      <th>dst_bytes</th>\n",
       "      <th>land</th>\n",
       "      <th>wrong_fragment</th>\n",
       "      <th>urgent</th>\n",
       "      <th>hot</th>\n",
       "      <th>...</th>\n",
       "      <th>dst_host_srv_count</th>\n",
       "      <th>dst_host_same_srv_rate</th>\n",
       "      <th>dst_host_diff_srv_rate</th>\n",
       "      <th>dst_host_same_src_port_rate</th>\n",
       "      <th>dst_host_srv_diff_host_rate</th>\n",
       "      <th>dst_host_serror_rate</th>\n",
       "      <th>dst_host_srv_serror_rate</th>\n",
       "      <th>dst_host_rerror_rate</th>\n",
       "      <th>dst_host_srv_rerror_rate</th>\n",
       "      <th>labels</th>\n",
       "    </tr>\n",
       "  </thead>\n",
       "  <tbody>\n",
       "    <tr>\n",
       "      <th>0</th>\n",
       "      <td>0</td>\n",
       "      <td>tcp</td>\n",
       "      <td>ftp_data</td>\n",
       "      <td>SF</td>\n",
       "      <td>491</td>\n",
       "      <td>0</td>\n",
       "      <td>0</td>\n",
       "      <td>0</td>\n",
       "      <td>0</td>\n",
       "      <td>0</td>\n",
       "      <td>...</td>\n",
       "      <td>25</td>\n",
       "      <td>0.17</td>\n",
       "      <td>0.03</td>\n",
       "      <td>0.17</td>\n",
       "      <td>0.00</td>\n",
       "      <td>0.00</td>\n",
       "      <td>0.00</td>\n",
       "      <td>0.05</td>\n",
       "      <td>0.00</td>\n",
       "      <td>normal</td>\n",
       "    </tr>\n",
       "    <tr>\n",
       "      <th>1</th>\n",
       "      <td>0</td>\n",
       "      <td>udp</td>\n",
       "      <td>other</td>\n",
       "      <td>SF</td>\n",
       "      <td>146</td>\n",
       "      <td>0</td>\n",
       "      <td>0</td>\n",
       "      <td>0</td>\n",
       "      <td>0</td>\n",
       "      <td>0</td>\n",
       "      <td>...</td>\n",
       "      <td>1</td>\n",
       "      <td>0.00</td>\n",
       "      <td>0.60</td>\n",
       "      <td>0.88</td>\n",
       "      <td>0.00</td>\n",
       "      <td>0.00</td>\n",
       "      <td>0.00</td>\n",
       "      <td>0.00</td>\n",
       "      <td>0.00</td>\n",
       "      <td>normal</td>\n",
       "    </tr>\n",
       "    <tr>\n",
       "      <th>2</th>\n",
       "      <td>0</td>\n",
       "      <td>tcp</td>\n",
       "      <td>private</td>\n",
       "      <td>S0</td>\n",
       "      <td>0</td>\n",
       "      <td>0</td>\n",
       "      <td>0</td>\n",
       "      <td>0</td>\n",
       "      <td>0</td>\n",
       "      <td>0</td>\n",
       "      <td>...</td>\n",
       "      <td>26</td>\n",
       "      <td>0.10</td>\n",
       "      <td>0.05</td>\n",
       "      <td>0.00</td>\n",
       "      <td>0.00</td>\n",
       "      <td>1.00</td>\n",
       "      <td>1.00</td>\n",
       "      <td>0.00</td>\n",
       "      <td>0.00</td>\n",
       "      <td>neptune</td>\n",
       "    </tr>\n",
       "    <tr>\n",
       "      <th>3</th>\n",
       "      <td>0</td>\n",
       "      <td>tcp</td>\n",
       "      <td>http</td>\n",
       "      <td>SF</td>\n",
       "      <td>232</td>\n",
       "      <td>8153</td>\n",
       "      <td>0</td>\n",
       "      <td>0</td>\n",
       "      <td>0</td>\n",
       "      <td>0</td>\n",
       "      <td>...</td>\n",
       "      <td>255</td>\n",
       "      <td>1.00</td>\n",
       "      <td>0.00</td>\n",
       "      <td>0.03</td>\n",
       "      <td>0.04</td>\n",
       "      <td>0.03</td>\n",
       "      <td>0.01</td>\n",
       "      <td>0.00</td>\n",
       "      <td>0.01</td>\n",
       "      <td>normal</td>\n",
       "    </tr>\n",
       "    <tr>\n",
       "      <th>4</th>\n",
       "      <td>0</td>\n",
       "      <td>tcp</td>\n",
       "      <td>http</td>\n",
       "      <td>SF</td>\n",
       "      <td>199</td>\n",
       "      <td>420</td>\n",
       "      <td>0</td>\n",
       "      <td>0</td>\n",
       "      <td>0</td>\n",
       "      <td>0</td>\n",
       "      <td>...</td>\n",
       "      <td>255</td>\n",
       "      <td>1.00</td>\n",
       "      <td>0.00</td>\n",
       "      <td>0.00</td>\n",
       "      <td>0.00</td>\n",
       "      <td>0.00</td>\n",
       "      <td>0.00</td>\n",
       "      <td>0.00</td>\n",
       "      <td>0.00</td>\n",
       "      <td>normal</td>\n",
       "    </tr>\n",
       "  </tbody>\n",
       "</table>\n",
       "<p>5 rows × 42 columns</p>\n",
       "</div>"
      ],
      "text/plain": [
       "   duration protocol_type   service flag  src_bytes  dst_bytes  land  \\\n",
       "0         0           tcp  ftp_data   SF        491          0     0   \n",
       "1         0           udp     other   SF        146          0     0   \n",
       "2         0           tcp   private   S0          0          0     0   \n",
       "3         0           tcp      http   SF        232       8153     0   \n",
       "4         0           tcp      http   SF        199        420     0   \n",
       "\n",
       "   wrong_fragment  urgent  hot  ...  dst_host_srv_count  \\\n",
       "0               0       0    0  ...                  25   \n",
       "1               0       0    0  ...                   1   \n",
       "2               0       0    0  ...                  26   \n",
       "3               0       0    0  ...                 255   \n",
       "4               0       0    0  ...                 255   \n",
       "\n",
       "   dst_host_same_srv_rate  dst_host_diff_srv_rate  \\\n",
       "0                    0.17                    0.03   \n",
       "1                    0.00                    0.60   \n",
       "2                    0.10                    0.05   \n",
       "3                    1.00                    0.00   \n",
       "4                    1.00                    0.00   \n",
       "\n",
       "   dst_host_same_src_port_rate  dst_host_srv_diff_host_rate  \\\n",
       "0                         0.17                         0.00   \n",
       "1                         0.88                         0.00   \n",
       "2                         0.00                         0.00   \n",
       "3                         0.03                         0.04   \n",
       "4                         0.00                         0.00   \n",
       "\n",
       "   dst_host_serror_rate  dst_host_srv_serror_rate  dst_host_rerror_rate  \\\n",
       "0                  0.00                      0.00                  0.05   \n",
       "1                  0.00                      0.00                  0.00   \n",
       "2                  1.00                      1.00                  0.00   \n",
       "3                  0.03                      0.01                  0.00   \n",
       "4                  0.00                      0.00                  0.00   \n",
       "\n",
       "   dst_host_srv_rerror_rate   labels  \n",
       "0                      0.00   normal  \n",
       "1                      0.00   normal  \n",
       "2                      0.00  neptune  \n",
       "3                      0.01   normal  \n",
       "4                      0.00   normal  \n",
       "\n",
       "[5 rows x 42 columns]"
      ]
     },
     "execution_count": 5,
     "metadata": {},
     "output_type": "execute_result"
    }
   ],
   "source": [
    "data.head()"
   ]
  },
  {
   "cell_type": "code",
   "execution_count": 6,
   "metadata": {},
   "outputs": [
    {
     "data": {
      "text/plain": [
       "normal             67343\n",
       "neptune            41214\n",
       "satan               3633\n",
       "ipsweep             3599\n",
       "portsweep           2931\n",
       "smurf               2646\n",
       "nmap                1493\n",
       "back                 956\n",
       "teardrop             892\n",
       "warezclient          890\n",
       "pod                  201\n",
       "guess_passwd          53\n",
       "buffer_overflow       30\n",
       "warezmaster           20\n",
       "land                  18\n",
       "imap                  11\n",
       "rootkit               10\n",
       "loadmodule             9\n",
       "ftp_write              8\n",
       "multihop               7\n",
       "phf                    4\n",
       "perl                   3\n",
       "spy                    2\n",
       "Name: labels, dtype: int64"
      ]
     },
     "execution_count": 6,
     "metadata": {},
     "output_type": "execute_result"
    }
   ],
   "source": [
    "# number of attack labels \n",
    "data['labels'].value_counts()"
   ]
  },
  {
   "cell_type": "code",
   "execution_count": 7,
   "metadata": {},
   "outputs": [],
   "source": [
    "def change_label(df):\n",
    "  df.labels.replace(['apache2','back','land','neptune','mailbomb','pod','processtable','smurf','teardrop','udpstorm','worm'],'Dos',inplace=True)\n",
    "  df.labels.replace(['ftp_write','guess_passwd','httptunnel','imap','multihop','named','phf','sendmail','snmpgetattack','snmpguess','spy','warezclient','warezmaster','xlock','xsnoop'],'R2L',inplace=True)      \n",
    "  df.labels.replace(['ipsweep','mscan','nmap','portsweep','saint','satan'],'Probe',inplace=True)\n",
    "  df.labels.replace(['buffer_overflow','loadmodule','perl','ps','rootkit','sqlattack','xterm'],'U2R',inplace=True)"
   ]
  },
  {
   "cell_type": "code",
   "execution_count": 8,
   "metadata": {},
   "outputs": [],
   "source": [
    "change_label(data)"
   ]
  },
  {
   "cell_type": "code",
   "execution_count": 9,
   "metadata": {},
   "outputs": [],
   "source": [
    "#data = data[0:10000]"
   ]
  },
  {
   "cell_type": "code",
   "execution_count": 10,
   "metadata": {},
   "outputs": [
    {
     "data": {
      "text/plain": [
       "normal    67343\n",
       "Dos       45927\n",
       "Probe     11656\n",
       "R2L         995\n",
       "U2R          52\n",
       "Name: labels, dtype: int64"
      ]
     },
     "execution_count": 10,
     "metadata": {},
     "output_type": "execute_result"
    }
   ],
   "source": [
    "# distribution of attack classes\n",
    "data.labels.value_counts()"
   ]
  },
  {
   "cell_type": "code",
   "execution_count": 11,
   "metadata": {},
   "outputs": [
    {
     "data": {
      "text/plain": [
       "array([4, 0, 2, 1, 3], dtype=int64)"
      ]
     },
     "execution_count": 11,
     "metadata": {},
     "output_type": "execute_result"
    }
   ],
   "source": [
    "# Import label encoder\n",
    "from sklearn import preprocessing\n",
    "\n",
    "# label_encoder object knows\n",
    "# how to understand word labels.\n",
    "label_encoder = preprocessing.LabelEncoder()\n",
    "\n",
    "# Encode labels in column 'species'.\n",
    "data['protocol_type']= label_encoder.fit_transform(data['protocol_type'])\n",
    "data['service']= label_encoder.fit_transform(data['service'])\n",
    "data['flag']= label_encoder.fit_transform(data['flag'])\n",
    "data['labels']= label_encoder.fit_transform(data['labels'])\n",
    "\n",
    "data['protocol_type'].unique()\n",
    "data['service'].unique()\n",
    "data['flag'].unique()\n",
    "data['labels'].unique()"
   ]
  },
  {
   "cell_type": "code",
   "execution_count": 12,
   "metadata": {},
   "outputs": [],
   "source": [
    "X = data.drop([\"labels\"],axis =1)\n",
    "y = data[\"labels\"]"
   ]
  },
  {
   "cell_type": "markdown",
   "metadata": {},
   "source": [
    "# Chi-Square"
   ]
  },
  {
   "cell_type": "code",
   "execution_count": 13,
   "metadata": {},
   "outputs": [],
   "source": [
    "from sklearn.feature_selection import SelectKBest\n",
    "from sklearn.feature_selection import chi2"
   ]
  },
  {
   "cell_type": "code",
   "execution_count": 14,
   "metadata": {},
   "outputs": [],
   "source": [
    "chi2_features = SelectKBest(chi2, k = 10)\n",
    "X_kbest = chi2_features.fit_transform(X, y)"
   ]
  },
  {
   "cell_type": "code",
   "execution_count": 15,
   "metadata": {},
   "outputs": [
    {
     "data": {
      "text/plain": [
       "array([[  0.,  20.,   9., ...,   2., 150.,  25.],\n",
       "       [  0.,  44.,   9., ...,   1., 255.,   1.],\n",
       "       [  0.,  49.,   5., ...,   6., 255.,  26.],\n",
       "       ...,\n",
       "       [  0.,  54.,   9., ...,   1., 255.,  30.],\n",
       "       [  0.,  30.,   5., ...,   8., 255.,   8.],\n",
       "       [  0.,  20.,   9., ...,   1., 255.,  77.]])"
      ]
     },
     "execution_count": 15,
     "metadata": {},
     "output_type": "execute_result"
    }
   ],
   "source": [
    "X_kbest"
   ]
  },
  {
   "cell_type": "code",
   "execution_count": 16,
   "metadata": {},
   "outputs": [
    {
     "data": {
      "text/plain": [
       "((100778, 10), (100778,), (25195, 10), (25195,))"
      ]
     },
     "execution_count": 16,
     "metadata": {},
     "output_type": "execute_result"
    }
   ],
   "source": [
    "from sklearn.model_selection import train_test_split\n",
    "\n",
    "X_train, X_test, y_train, y_test = train_test_split(X_kbest, y, test_size = 0.20, random_state = 42)\n",
    "X_train.shape, y_train.shape, X_test.shape, y_test.shape"
   ]
  },
  {
   "cell_type": "code",
   "execution_count": 17,
   "metadata": {},
   "outputs": [],
   "source": [
    "ML_Model = []\n",
    "accuracy = []\n",
    "precision = []\n",
    "recall = []\n",
    "f1score = []\n",
    "spec = []\n",
    "errate = []\n",
    "\n",
    "\n",
    "#function to call for storing the results\n",
    "def storeResults(model, a,b,c,d,e,f):\n",
    "    ML_Model.append(model)\n",
    "    accuracy.append(round(a, 3))\n",
    "    precision.append(round(b, 3))\n",
    "    recall.append(round(c, 3))\n",
    "    f1score.append(round(d, 3))\n",
    "    spec.append(round(e,3))\n",
    "    errate.append(round(f,3))"
   ]
  },
  {
   "cell_type": "code",
   "execution_count": 18,
   "metadata": {},
   "outputs": [],
   "source": [
    "from sklearn.metrics import accuracy_score, precision_score, recall_score, f1_score\n",
    "from imblearn.metrics import specificity_score"
   ]
  },
  {
   "cell_type": "markdown",
   "metadata": {},
   "source": [
    "# SVM"
   ]
  },
  {
   "cell_type": "code",
   "execution_count": 19,
   "metadata": {},
   "outputs": [],
   "source": [
    "from sklearn.svm import SVC\n",
    "\n",
    "# instantiate the model \n",
    "svm = SVC(probability=True)\n",
    "\n",
    "# fit the model \n",
    "svm.fit(X_train, y_train)\n",
    "\n",
    "#predicting the target value from the model for the samples\n",
    "\n",
    "y_pred = svm.predict(X_test)\n",
    "\n",
    "svm_acc = accuracy_score(y_pred, y_test)\n",
    "svm_prec = precision_score(y_pred, y_test,average='weighted')\n",
    "svm_rec = recall_score(y_pred, y_test,average='weighted')\n",
    "svm_f1 = f1_score(y_pred, y_test,average='weighted')\n",
    "svm_spec = specificity_score(y_test, y_pred, average='weighted')\n",
    "svm_error = 1 - svm_acc\n",
    "\n",
    "storeResults('Support Vector Machine  - CHI Square',svm_acc,svm_prec,svm_rec,svm_f1,svm_spec,svm_error)"
   ]
  },
  {
   "cell_type": "markdown",
   "metadata": {},
   "source": [
    "# Naive Bayes"
   ]
  },
  {
   "cell_type": "code",
   "execution_count": 20,
   "metadata": {},
   "outputs": [],
   "source": [
    "from sklearn.naive_bayes import GaussianNB\n",
    "\n",
    "# instantiate the model \n",
    "nb = GaussianNB()\n",
    "\n",
    "# fit the model \n",
    "nb.fit(X_train, y_train)\n",
    "\n",
    "#predicting the target value from the model for the samples\n",
    "\n",
    "y_pred = nb.predict(X_test)\n",
    "\n",
    "nb_acc = accuracy_score(y_pred, y_test)\n",
    "nb_prec = precision_score(y_pred, y_test,average='weighted')\n",
    "nb_rec = recall_score(y_pred, y_test,average='weighted')\n",
    "nb_f1 = f1_score(y_pred, y_test,average='weighted')\n",
    "nb_spec = specificity_score(y_test, y_pred, average='weighted')\n",
    "nb_error = 1 - nb_acc\n",
    "\n",
    "storeResults('Naive Bayes - CHI Square',nb_acc,nb_prec,nb_rec,nb_f1,nb_spec,nb_error)"
   ]
  },
  {
   "cell_type": "markdown",
   "metadata": {},
   "source": [
    "# Stacking Classifier"
   ]
  },
  {
   "cell_type": "code",
   "execution_count": 21,
   "metadata": {},
   "outputs": [],
   "source": [
    "from sklearn.ensemble import RandomForestClassifier\n",
    "from sklearn.neural_network import MLPClassifier\n",
    "from lightgbm import LGBMClassifier\n",
    "from xgboost import XGBClassifier\n",
    "from sklearn.ensemble import StackingClassifier\n",
    "\n",
    "estimators = [('rf', RandomForestClassifier(n_estimators=1000)),('mlp', MLPClassifier(random_state=1, max_iter=3000))]\n",
    "\n",
    "clf = StackingClassifier(estimators=estimators, final_estimator=LGBMClassifier(n_estimators=1000))\n",
    "\n",
    "\n",
    "clf.fit(X_train,y_train)\n",
    "\n",
    "y_pred = clf.predict(X_test)\n",
    "\n",
    "stac_acc = accuracy_score(y_pred, y_test)\n",
    "stac_prec = precision_score(y_pred, y_test,average='weighted')\n",
    "stac_rec = recall_score(y_pred, y_test,average='weighted')\n",
    "stac_f1 = f1_score(y_pred, y_test,average='weighted')\n",
    "stac_spec = specificity_score(y_test, y_pred, average='weighted')\n",
    "stac_error = 1 - stac_acc\n",
    "\n",
    "storeResults('Stacking Classifier - CHI Square',stac_acc,stac_prec,stac_rec,stac_f1,stac_spec,stac_error)"
   ]
  },
  {
   "cell_type": "markdown",
   "metadata": {},
   "source": [
    "# Voting Classifier"
   ]
  },
  {
   "cell_type": "code",
   "execution_count": 22,
   "metadata": {},
   "outputs": [],
   "source": [
    "from sklearn.ensemble import RandomForestClassifier, VotingClassifier, AdaBoostClassifier\n",
    "clf1 = AdaBoostClassifier(n_estimators=100, random_state=0)\n",
    "clf2 = RandomForestClassifier(n_estimators=50, random_state=1)\n",
    "\n",
    "eclf1 = VotingClassifier(estimators=[('lr', clf1), ('rf', clf2)], voting='soft')\n",
    "eclf1.fit(X_train, y_train)\n",
    "y_pred = eclf1.predict(X_test)\n",
    "\n",
    "vot_acc = accuracy_score(y_pred, y_test)\n",
    "vot_prec = precision_score(y_pred, y_test,average='weighted')\n",
    "vot_rec = recall_score(y_pred, y_test,average='weighted')\n",
    "vot_f1 = f1_score(y_pred, y_test,average='weighted')\n",
    "vot_spec = specificity_score(y_test, y_pred, average='weighted')\n",
    "vot_error = 1 - vot_acc\n",
    "\n",
    "storeResults('Voting Classifier - CHI Square',vot_acc,vot_prec,vot_rec,vot_f1,vot_spec,vot_error)"
   ]
  },
  {
   "cell_type": "markdown",
   "metadata": {},
   "source": [
    "# Lasso"
   ]
  },
  {
   "cell_type": "code",
   "execution_count": 23,
   "metadata": {},
   "outputs": [],
   "source": [
    "from sklearn.svm import LinearSVC\n",
    "from sklearn.feature_selection import SelectFromModel\n",
    "\n",
    "lsvc = LinearSVC(C=0.01, penalty=\"l1\", dual=False).fit(X, y)\n",
    "\n",
    "model = SelectFromModel(lsvc, prefit=True)"
   ]
  },
  {
   "cell_type": "code",
   "execution_count": 24,
   "metadata": {},
   "outputs": [],
   "source": [
    "X_new = model.transform(X)"
   ]
  },
  {
   "cell_type": "code",
   "execution_count": 25,
   "metadata": {},
   "outputs": [
    {
     "data": {
      "text/plain": [
       "(125973, 32)"
      ]
     },
     "execution_count": 25,
     "metadata": {},
     "output_type": "execute_result"
    }
   ],
   "source": [
    "X_new.shape"
   ]
  },
  {
   "cell_type": "code",
   "execution_count": 26,
   "metadata": {},
   "outputs": [
    {
     "data": {
      "text/plain": [
       "((100778, 32), (100778,), (25195, 32), (25195,))"
      ]
     },
     "execution_count": 26,
     "metadata": {},
     "output_type": "execute_result"
    }
   ],
   "source": [
    "from sklearn.model_selection import train_test_split\n",
    "\n",
    "X_train, X_test, y_train, y_test = train_test_split(X_new, y, test_size = 0.20, random_state = 42)\n",
    "X_train.shape, y_train.shape, X_test.shape, y_test.shape"
   ]
  },
  {
   "cell_type": "markdown",
   "metadata": {},
   "source": [
    "# SVC"
   ]
  },
  {
   "cell_type": "code",
   "execution_count": 27,
   "metadata": {},
   "outputs": [],
   "source": [
    "from sklearn.svm import SVC\n",
    "\n",
    "# instantiate the model \n",
    "svm1 = SVC(probability=True)\n",
    "\n",
    "# fit the model \n",
    "svm1.fit(X_train, y_train)\n",
    "\n",
    "#predicting the target value from the model for the samples\n",
    "\n",
    "y_pred = svm1.predict(X_test)\n",
    "\n",
    "svm_acc = accuracy_score(y_pred, y_test)\n",
    "svm_prec = precision_score(y_pred, y_test,average='weighted')\n",
    "svm_rec = recall_score(y_pred, y_test,average='weighted')\n",
    "svm_f1 = f1_score(y_pred, y_test,average='weighted')\n",
    "svm_spec = specificity_score(y_test, y_pred, average='weighted')\n",
    "svm_error = 1 - svm_acc\n",
    "\n",
    "storeResults('Support Vector Machine  - Lasso',svm_acc,svm_prec,svm_rec,svm_f1,svm_spec,svm_error)"
   ]
  },
  {
   "cell_type": "markdown",
   "metadata": {},
   "source": [
    "# Naive Bayes"
   ]
  },
  {
   "cell_type": "code",
   "execution_count": 28,
   "metadata": {},
   "outputs": [],
   "source": [
    "from sklearn.naive_bayes import GaussianNB\n",
    "\n",
    "# instantiate the model \n",
    "nb1 = GaussianNB()\n",
    "\n",
    "# fit the model \n",
    "nb1.fit(X_train, y_train)\n",
    "\n",
    "#predicting the target value from the model for the samples\n",
    "\n",
    "y_pred = nb1.predict(X_test)\n",
    "\n",
    "nb_acc = accuracy_score(y_pred, y_test)\n",
    "nb_prec = precision_score(y_pred, y_test,average='weighted')\n",
    "nb_rec = recall_score(y_pred, y_test,average='weighted')\n",
    "nb_f1 = f1_score(y_pred, y_test,average='weighted')\n",
    "nb_spec = specificity_score(y_test, y_pred, average='weighted')\n",
    "nb_error = 1 - nb_acc\n",
    "\n",
    "storeResults('Naive Bayes - Lasso',nb_acc,nb_prec,nb_rec,nb_f1,nb_spec,nb_error)"
   ]
  },
  {
   "cell_type": "markdown",
   "metadata": {},
   "source": [
    "# Stacking Classifier"
   ]
  },
  {
   "cell_type": "code",
   "execution_count": 29,
   "metadata": {},
   "outputs": [],
   "source": [
    "from sklearn.ensemble import RandomForestClassifier\n",
    "from sklearn.neural_network import MLPClassifier\n",
    "from lightgbm import LGBMClassifier\n",
    "from xgboost import XGBClassifier\n",
    "from sklearn.ensemble import StackingClassifier\n",
    "\n",
    "estimators = [('rf', RandomForestClassifier(n_estimators=1000)),('mlp', MLPClassifier(random_state=1, max_iter=3000))]\n",
    "\n",
    "clf1 = StackingClassifier(estimators=estimators, final_estimator=LGBMClassifier(n_estimators=1000))\n",
    "\n",
    "\n",
    "clf1.fit(X_train,y_train)\n",
    "\n",
    "y_pred = clf1.predict(X_test)\n",
    "\n",
    "stac_acc = accuracy_score(y_pred, y_test)\n",
    "stac_prec = precision_score(y_pred, y_test,average='weighted')\n",
    "stac_rec = recall_score(y_pred, y_test,average='weighted')\n",
    "stac_f1 = f1_score(y_pred, y_test,average='weighted')\n",
    "stac_spec = specificity_score(y_test, y_pred, average='weighted')\n",
    "stac_error = 1 - stac_acc\n",
    "\n",
    "storeResults('Stacking Classifier - Lasso',stac_acc,stac_prec,stac_rec,stac_f1,stac_spec,stac_error)"
   ]
  },
  {
   "cell_type": "markdown",
   "metadata": {},
   "source": [
    "# Voting Classifier"
   ]
  },
  {
   "cell_type": "code",
   "execution_count": 30,
   "metadata": {},
   "outputs": [],
   "source": [
    "from sklearn.ensemble import RandomForestClassifier, VotingClassifier, AdaBoostClassifier\n",
    "clf1 = AdaBoostClassifier(n_estimators=100, random_state=0)\n",
    "clf2 = RandomForestClassifier(n_estimators=50, random_state=1)\n",
    "\n",
    "eclf2 = VotingClassifier(estimators=[('lr', clf1), ('rf', clf2)], voting='soft')\n",
    "eclf2.fit(X_train, y_train)\n",
    "y_pred = eclf2.predict(X_test)\n",
    "\n",
    "vot_acc = accuracy_score(y_pred, y_test)\n",
    "vot_prec = precision_score(y_pred, y_test,average='weighted')\n",
    "vot_rec = recall_score(y_pred, y_test,average='weighted')\n",
    "vot_f1 = f1_score(y_pred, y_test,average='weighted')\n",
    "vot_spec = specificity_score(y_test, y_pred, average='weighted')\n",
    "vot_error = 1 - vot_acc\n",
    "\n",
    "storeResults('Voting Classifier - Lasso',vot_acc,vot_prec,vot_rec,vot_f1,vot_spec,vot_error)"
   ]
  },
  {
   "cell_type": "markdown",
   "metadata": {},
   "source": [
    "# RFE"
   ]
  },
  {
   "cell_type": "code",
   "execution_count": 31,
   "metadata": {},
   "outputs": [],
   "source": [
    "from sklearn.feature_selection import RFECV\n",
    "from sklearn.ensemble import RandomForestClassifier\n",
    "rfecv = RFECV(cv=50, estimator=RandomForestClassifier(random_state=0),\n",
    "      scoring='accuracy')"
   ]
  },
  {
   "cell_type": "code",
   "execution_count": 32,
   "metadata": {},
   "outputs": [
    {
     "data": {
      "text/plain": [
       "RFECV(cv=50, estimator=RandomForestClassifier(random_state=0),\n",
       "      scoring='accuracy')"
      ]
     },
     "execution_count": 32,
     "metadata": {},
     "output_type": "execute_result"
    }
   ],
   "source": [
    "rfecv.fit(X,y)"
   ]
  },
  {
   "cell_type": "code",
   "execution_count": 33,
   "metadata": {},
   "outputs": [
    {
     "data": {
      "text/plain": [
       "'Number of features:'"
      ]
     },
     "metadata": {},
     "output_type": "display_data"
    },
    {
     "data": {
      "text/plain": [
       "33"
      ]
     },
     "metadata": {},
     "output_type": "display_data"
    },
    {
     "data": {
      "text/plain": [
       "['duration',\n",
       " 'protocol_type',\n",
       " 'service',\n",
       " 'flag',\n",
       " 'src_bytes',\n",
       " 'dst_bytes',\n",
       " 'wrong_fragment',\n",
       " 'hot',\n",
       " 'num_failed_logins',\n",
       " 'logged_in',\n",
       " 'num_compromised',\n",
       " 'num_root',\n",
       " 'num_file_creations',\n",
       " 'is_guest_login',\n",
       " 'count',\n",
       " 'srv_count',\n",
       " 'serror_rate',\n",
       " 'srv_serror_rate',\n",
       " 'rerror_rate',\n",
       " 'srv_rerror_rate',\n",
       " 'same_srv_rate',\n",
       " 'diff_srv_rate',\n",
       " 'srv_diff_host_rate',\n",
       " 'dst_host_count',\n",
       " 'dst_host_srv_count',\n",
       " 'dst_host_same_srv_rate',\n",
       " 'dst_host_diff_srv_rate',\n",
       " 'dst_host_same_src_port_rate',\n",
       " 'dst_host_srv_diff_host_rate',\n",
       " 'dst_host_serror_rate',\n",
       " 'dst_host_srv_serror_rate',\n",
       " 'dst_host_rerror_rate',\n",
       " 'dst_host_srv_rerror_rate']"
      ]
     },
     "execution_count": 33,
     "metadata": {},
     "output_type": "execute_result"
    }
   ],
   "source": [
    "#to get number of the features\n",
    "display('Number of features:', rfecv.n_features_)\n",
    "\n",
    "#to get feature names\n",
    "list(X.columns[rfecv.support_]) "
   ]
  },
  {
   "cell_type": "code",
   "execution_count": 34,
   "metadata": {},
   "outputs": [],
   "source": [
    "X_new = data[['duration',\n",
    " 'protocol_type',\n",
    " 'service',\n",
    " 'flag',\n",
    " 'src_bytes',\n",
    " 'dst_bytes',\n",
    " 'wrong_fragment',\n",
    " 'hot',\n",
    " 'logged_in',\n",
    " 'num_compromised',\n",
    " 'num_root',\n",
    " 'is_guest_login',\n",
    " 'count',\n",
    " 'srv_count',\n",
    " 'serror_rate',\n",
    " 'srv_serror_rate',\n",
    " 'rerror_rate',\n",
    " 'srv_rerror_rate',\n",
    " 'same_srv_rate',\n",
    " 'diff_srv_rate',\n",
    " 'srv_diff_host_rate',\n",
    " 'dst_host_count',\n",
    " 'dst_host_srv_count',\n",
    " 'dst_host_same_srv_rate',\n",
    " 'dst_host_diff_srv_rate',\n",
    " 'dst_host_same_src_port_rate',\n",
    " 'dst_host_srv_diff_host_rate',\n",
    " 'dst_host_serror_rate',\n",
    " 'dst_host_srv_serror_rate',\n",
    " 'dst_host_rerror_rate',\n",
    " 'dst_host_srv_rerror_rate']]"
   ]
  },
  {
   "cell_type": "code",
   "execution_count": 35,
   "metadata": {},
   "outputs": [
    {
     "data": {
      "text/plain": [
       "'Number of features:'"
      ]
     },
     "metadata": {},
     "output_type": "display_data"
    },
    {
     "data": {
      "text/plain": [
       "31"
      ]
     },
     "metadata": {},
     "output_type": "display_data"
    },
    {
     "data": {
      "text/plain": [
       "['duration',\n",
       " 'protocol_type',\n",
       " 'service',\n",
       " 'flag',\n",
       " 'src_bytes',\n",
       " 'dst_bytes',\n",
       " 'wrong_fragment',\n",
       " 'hot',\n",
       " 'logged_in',\n",
       " 'num_compromised',\n",
       " 'num_root',\n",
       " 'is_guest_login',\n",
       " 'count',\n",
       " 'srv_count',\n",
       " 'serror_rate',\n",
       " 'srv_serror_rate',\n",
       " 'rerror_rate',\n",
       " 'srv_rerror_rate',\n",
       " 'same_srv_rate',\n",
       " 'diff_srv_rate',\n",
       " 'srv_diff_host_rate',\n",
       " 'dst_host_count',\n",
       " 'dst_host_srv_count',\n",
       " 'dst_host_same_srv_rate',\n",
       " 'dst_host_diff_srv_rate',\n",
       " 'dst_host_same_src_port_rate',\n",
       " 'dst_host_srv_diff_host_rate',\n",
       " 'dst_host_serror_rate',\n",
       " 'dst_host_srv_serror_rate',\n",
       " 'dst_host_rerror_rate',\n",
       " 'dst_host_srv_rerror_rate']"
      ]
     },
     "execution_count": 35,
     "metadata": {},
     "output_type": "execute_result"
    }
   ],
   "source": [
    "rfecv = RFECV(cv=10, estimator=RandomForestClassifier(random_state=0),\n",
    "      scoring='accuracy')\n",
    "rfecv.fit(X_new,y)\n",
    "#to get number of the features\n",
    "display('Number of features:', rfecv.n_features_)\n",
    "\n",
    "#to get feature names\n",
    "list(X_new.columns[rfecv.support_]) "
   ]
  },
  {
   "cell_type": "code",
   "execution_count": 36,
   "metadata": {},
   "outputs": [],
   "source": [
    "X_2 = data[['protocol_type',\n",
    " 'service',\n",
    " 'flag',\n",
    " 'src_bytes',\n",
    " 'dst_bytes',\n",
    " 'count',\n",
    " 'srv_count',\n",
    " 'serror_rate',\n",
    " 'srv_serror_rate',\n",
    " 'same_srv_rate',\n",
    " 'diff_srv_rate',\n",
    " 'dst_host_srv_count',\n",
    " 'dst_host_same_srv_rate',\n",
    " 'dst_host_diff_srv_rate',\n",
    " 'dst_host_same_src_port_rate',\n",
    " 'dst_host_srv_diff_host_rate',\n",
    " 'dst_host_serror_rate',\n",
    " 'dst_host_srv_serror_rate',\n",
    " 'dst_host_rerror_rate']]"
   ]
  },
  {
   "cell_type": "code",
   "execution_count": 43,
   "metadata": {},
   "outputs": [],
   "source": [
    "df = data[['protocol_type',\n",
    "             'service',\n",
    "             'flag',\n",
    "             'src_bytes',\n",
    "             'dst_bytes',\n",
    "             'count',\n",
    "             'srv_count',\n",
    "             'serror_rate',\n",
    "             'srv_serror_rate',\n",
    "             'same_srv_rate',\n",
    "             'diff_srv_rate',\n",
    "             'dst_host_srv_count',\n",
    "             'dst_host_same_srv_rate',\n",
    "             'dst_host_diff_srv_rate',\n",
    "             'dst_host_same_src_port_rate',\n",
    "             'dst_host_srv_diff_host_rate',\n",
    "             'dst_host_serror_rate',\n",
    "             'dst_host_srv_serror_rate',\n",
    "             'dst_host_rerror_rate',\n",
    "              'labels']]\n",
    "df.to_csv('kdd_processed.csv')"
   ]
  },
  {
   "cell_type": "code",
   "execution_count": 37,
   "metadata": {},
   "outputs": [
    {
     "data": {
      "text/plain": [
       "((100778, 19), (100778,), (25195, 19), (25195,))"
      ]
     },
     "execution_count": 37,
     "metadata": {},
     "output_type": "execute_result"
    }
   ],
   "source": [
    "from sklearn.model_selection import train_test_split\n",
    "\n",
    "X_train, X_test, y_train, y_test = train_test_split(X_2, y, test_size = 0.20, random_state = 42)\n",
    "X_train.shape, y_train.shape, X_test.shape, y_test.shape"
   ]
  },
  {
   "cell_type": "markdown",
   "metadata": {},
   "source": [
    "# SVC"
   ]
  },
  {
   "cell_type": "code",
   "execution_count": 38,
   "metadata": {},
   "outputs": [],
   "source": [
    "from sklearn.svm import SVC\n",
    "\n",
    "# instantiate the model \n",
    "svm1 = SVC(probability=True)\n",
    "\n",
    "# fit the model \n",
    "svm1.fit(X_train, y_train)\n",
    "\n",
    "#predicting the target value from the model for the samples\n",
    "\n",
    "y_pred = svm1.predict(X_test)\n",
    "\n",
    "svm_acc = accuracy_score(y_pred, y_test)\n",
    "svm_prec = precision_score(y_pred, y_test,average='weighted')\n",
    "svm_rec = recall_score(y_pred, y_test,average='weighted')\n",
    "svm_f1 = f1_score(y_pred, y_test,average='weighted')\n",
    "svm_spec = specificity_score(y_test, y_pred, average='weighted')\n",
    "svm_error = 1 - svm_acc\n",
    "\n",
    "storeResults('Support Vector Machine  - RFE',svm_acc,svm_prec,svm_rec,svm_f1,svm_spec,svm_error)"
   ]
  },
  {
   "cell_type": "markdown",
   "metadata": {},
   "source": [
    "# Naive Bayes"
   ]
  },
  {
   "cell_type": "code",
   "execution_count": 39,
   "metadata": {},
   "outputs": [],
   "source": [
    "from sklearn.naive_bayes import GaussianNB\n",
    "\n",
    "# instantiate the model \n",
    "nb1 = GaussianNB()\n",
    "\n",
    "# fit the model \n",
    "nb1.fit(X_train, y_train)\n",
    "\n",
    "#predicting the target value from the model for the samples\n",
    "\n",
    "y_pred = nb1.predict(X_test)\n",
    "\n",
    "nb_acc = accuracy_score(y_pred, y_test)\n",
    "nb_prec = precision_score(y_pred, y_test,average='weighted')\n",
    "nb_rec = recall_score(y_pred, y_test,average='weighted')\n",
    "nb_f1 = f1_score(y_pred, y_test,average='weighted')\n",
    "nb_spec = specificity_score(y_test, y_pred, average='weighted')\n",
    "nb_error = 1 - nb_acc\n",
    "\n",
    "storeResults('Naive Bayes - RFE',nb_acc,nb_prec,nb_rec,nb_f1,nb_spec,nb_error)"
   ]
  },
  {
   "cell_type": "markdown",
   "metadata": {},
   "source": [
    "# Stacking Classifier"
   ]
  },
  {
   "cell_type": "code",
   "execution_count": 40,
   "metadata": {},
   "outputs": [],
   "source": [
    "from sklearn.ensemble import RandomForestClassifier\n",
    "from sklearn.neural_network import MLPClassifier\n",
    "from lightgbm import LGBMClassifier\n",
    "from xgboost import XGBClassifier\n",
    "from sklearn.ensemble import StackingClassifier\n",
    "\n",
    "estimators = [('rf', RandomForestClassifier(n_estimators=1000)),('mlp', MLPClassifier(random_state=1, max_iter=3000))]\n",
    "\n",
    "clf1 = StackingClassifier(estimators=estimators, final_estimator=LGBMClassifier(n_estimators=1000))\n",
    "\n",
    "\n",
    "clf1.fit(X_train,y_train)\n",
    "\n",
    "y_pred = clf1.predict(X_test)\n",
    "\n",
    "stac_acc = accuracy_score(y_pred, y_test)\n",
    "stac_prec = precision_score(y_pred, y_test,average='weighted')\n",
    "stac_rec = recall_score(y_pred, y_test,average='weighted')\n",
    "stac_f1 = f1_score(y_pred, y_test,average='weighted')\n",
    "stac_spec = specificity_score(y_test, y_pred, average='weighted')\n",
    "stac_error = 1 - stac_acc\n",
    "\n",
    "storeResults('Stacking Classifier - RFE',stac_acc,stac_prec,stac_rec,stac_f1,stac_spec,stac_error)"
   ]
  },
  {
   "cell_type": "markdown",
   "metadata": {},
   "source": [
    "# Voting Classifier"
   ]
  },
  {
   "cell_type": "code",
   "execution_count": 41,
   "metadata": {},
   "outputs": [],
   "source": [
    "from sklearn.ensemble import RandomForestClassifier, VotingClassifier, AdaBoostClassifier\n",
    "clf1 = AdaBoostClassifier(n_estimators=100, random_state=0)\n",
    "clf2 = RandomForestClassifier(n_estimators=50, random_state=1)\n",
    "\n",
    "eclf2 = VotingClassifier(estimators=[('lr', clf1), ('rf', clf2)], voting='soft')\n",
    "eclf2.fit(X_train, y_train)\n",
    "y_pred = eclf2.predict(X_test)\n",
    "\n",
    "vot_acc = accuracy_score(y_pred, y_test)\n",
    "vot_prec = precision_score(y_pred, y_test,average='weighted')\n",
    "vot_rec = recall_score(y_pred, y_test,average='weighted')\n",
    "vot_f1 = f1_score(y_pred, y_test,average='weighted')\n",
    "vot_spec = specificity_score(y_test, y_pred, average='weighted')\n",
    "vot_error = 1 - vot_acc\n",
    "\n",
    "storeResults('Voting Classifier - RFE',vot_acc,vot_prec,vot_rec,vot_f1,vot_spec,vot_error)"
   ]
  },
  {
   "cell_type": "markdown",
   "metadata": {},
   "source": [
    "# Comparison"
   ]
  },
  {
   "cell_type": "code",
   "execution_count": 42,
   "metadata": {},
   "outputs": [
    {
     "data": {
      "text/html": [
       "<div>\n",
       "<style scoped>\n",
       "    .dataframe tbody tr th:only-of-type {\n",
       "        vertical-align: middle;\n",
       "    }\n",
       "\n",
       "    .dataframe tbody tr th {\n",
       "        vertical-align: top;\n",
       "    }\n",
       "\n",
       "    .dataframe thead th {\n",
       "        text-align: right;\n",
       "    }\n",
       "</style>\n",
       "<table border=\"1\" class=\"dataframe\">\n",
       "  <thead>\n",
       "    <tr style=\"text-align: right;\">\n",
       "      <th></th>\n",
       "      <th>ML Model</th>\n",
       "      <th>Accuracy</th>\n",
       "      <th>Precision</th>\n",
       "      <th>Recall</th>\n",
       "      <th>F1-Score</th>\n",
       "      <th>Specificity</th>\n",
       "      <th>Error Rate</th>\n",
       "    </tr>\n",
       "  </thead>\n",
       "  <tbody>\n",
       "    <tr>\n",
       "      <th>0</th>\n",
       "      <td>Support Vector Machine  - CHI Square</td>\n",
       "      <td>0.533</td>\n",
       "      <td>0.999</td>\n",
       "      <td>0.533</td>\n",
       "      <td>0.695</td>\n",
       "      <td>0.468</td>\n",
       "      <td>0.467</td>\n",
       "    </tr>\n",
       "    <tr>\n",
       "      <th>1</th>\n",
       "      <td>Naive Bayes - CHI Square</td>\n",
       "      <td>0.390</td>\n",
       "      <td>0.909</td>\n",
       "      <td>0.390</td>\n",
       "      <td>0.512</td>\n",
       "      <td>0.683</td>\n",
       "      <td>0.610</td>\n",
       "    </tr>\n",
       "    <tr>\n",
       "      <th>2</th>\n",
       "      <td>Stacking Classifier - CHI Square</td>\n",
       "      <td>0.995</td>\n",
       "      <td>0.996</td>\n",
       "      <td>0.995</td>\n",
       "      <td>0.995</td>\n",
       "      <td>0.998</td>\n",
       "      <td>0.005</td>\n",
       "    </tr>\n",
       "    <tr>\n",
       "      <th>3</th>\n",
       "      <td>Voting Classifier - CHI Square</td>\n",
       "      <td>0.997</td>\n",
       "      <td>0.997</td>\n",
       "      <td>0.997</td>\n",
       "      <td>0.997</td>\n",
       "      <td>0.998</td>\n",
       "      <td>0.003</td>\n",
       "    </tr>\n",
       "    <tr>\n",
       "      <th>4</th>\n",
       "      <td>Support Vector Machine  - Lasso</td>\n",
       "      <td>0.857</td>\n",
       "      <td>0.947</td>\n",
       "      <td>0.857</td>\n",
       "      <td>0.895</td>\n",
       "      <td>0.856</td>\n",
       "      <td>0.143</td>\n",
       "    </tr>\n",
       "    <tr>\n",
       "      <th>5</th>\n",
       "      <td>Naive Bayes - Lasso</td>\n",
       "      <td>0.828</td>\n",
       "      <td>0.854</td>\n",
       "      <td>0.828</td>\n",
       "      <td>0.809</td>\n",
       "      <td>0.961</td>\n",
       "      <td>0.172</td>\n",
       "    </tr>\n",
       "    <tr>\n",
       "      <th>6</th>\n",
       "      <td>Stacking Classifier - Lasso</td>\n",
       "      <td>0.995</td>\n",
       "      <td>0.995</td>\n",
       "      <td>0.995</td>\n",
       "      <td>0.995</td>\n",
       "      <td>0.997</td>\n",
       "      <td>0.005</td>\n",
       "    </tr>\n",
       "    <tr>\n",
       "      <th>7</th>\n",
       "      <td>Voting Classifier - Lasso</td>\n",
       "      <td>0.997</td>\n",
       "      <td>0.997</td>\n",
       "      <td>0.997</td>\n",
       "      <td>0.997</td>\n",
       "      <td>0.997</td>\n",
       "      <td>0.003</td>\n",
       "    </tr>\n",
       "    <tr>\n",
       "      <th>8</th>\n",
       "      <td>Support Vector Machine  - RFE</td>\n",
       "      <td>0.533</td>\n",
       "      <td>0.999</td>\n",
       "      <td>0.533</td>\n",
       "      <td>0.695</td>\n",
       "      <td>0.468</td>\n",
       "      <td>0.467</td>\n",
       "    </tr>\n",
       "    <tr>\n",
       "      <th>9</th>\n",
       "      <td>Naive Bayes - RFE</td>\n",
       "      <td>0.435</td>\n",
       "      <td>0.904</td>\n",
       "      <td>0.435</td>\n",
       "      <td>0.531</td>\n",
       "      <td>0.674</td>\n",
       "      <td>0.565</td>\n",
       "    </tr>\n",
       "    <tr>\n",
       "      <th>10</th>\n",
       "      <td>Stacking Classifier - RFE</td>\n",
       "      <td>0.996</td>\n",
       "      <td>0.997</td>\n",
       "      <td>0.996</td>\n",
       "      <td>0.997</td>\n",
       "      <td>0.998</td>\n",
       "      <td>0.004</td>\n",
       "    </tr>\n",
       "    <tr>\n",
       "      <th>11</th>\n",
       "      <td>Voting Classifier - RFE</td>\n",
       "      <td>0.998</td>\n",
       "      <td>0.999</td>\n",
       "      <td>0.998</td>\n",
       "      <td>0.999</td>\n",
       "      <td>0.999</td>\n",
       "      <td>0.002</td>\n",
       "    </tr>\n",
       "  </tbody>\n",
       "</table>\n",
       "</div>"
      ],
      "text/plain": [
       "                                ML Model  Accuracy  Precision  Recall  \\\n",
       "0   Support Vector Machine  - CHI Square     0.533      0.999   0.533   \n",
       "1               Naive Bayes - CHI Square     0.390      0.909   0.390   \n",
       "2       Stacking Classifier - CHI Square     0.995      0.996   0.995   \n",
       "3         Voting Classifier - CHI Square     0.997      0.997   0.997   \n",
       "4        Support Vector Machine  - Lasso     0.857      0.947   0.857   \n",
       "5                    Naive Bayes - Lasso     0.828      0.854   0.828   \n",
       "6            Stacking Classifier - Lasso     0.995      0.995   0.995   \n",
       "7              Voting Classifier - Lasso     0.997      0.997   0.997   \n",
       "8          Support Vector Machine  - RFE     0.533      0.999   0.533   \n",
       "9                      Naive Bayes - RFE     0.435      0.904   0.435   \n",
       "10             Stacking Classifier - RFE     0.996      0.997   0.996   \n",
       "11               Voting Classifier - RFE     0.998      0.999   0.998   \n",
       "\n",
       "    F1-Score  Specificity  Error Rate  \n",
       "0      0.695        0.468       0.467  \n",
       "1      0.512        0.683       0.610  \n",
       "2      0.995        0.998       0.005  \n",
       "3      0.997        0.998       0.003  \n",
       "4      0.895        0.856       0.143  \n",
       "5      0.809        0.961       0.172  \n",
       "6      0.995        0.997       0.005  \n",
       "7      0.997        0.997       0.003  \n",
       "8      0.695        0.468       0.467  \n",
       "9      0.531        0.674       0.565  \n",
       "10     0.997        0.998       0.004  \n",
       "11     0.999        0.999       0.002  "
      ]
     },
     "execution_count": 42,
     "metadata": {},
     "output_type": "execute_result"
    }
   ],
   "source": [
    "#creating dataframe\n",
    "result = pd.DataFrame({ 'ML Model' : ML_Model,\n",
    "                        'Accuracy' : accuracy,\n",
    "                        'Precision': precision,\n",
    "                        'Recall'   : recall,\n",
    "                        'F1-Score': f1score,\n",
    "                        'Specificity' : spec,\n",
    "                        'Error Rate' : errate\n",
    "                      })\n",
    "\n",
    "\n",
    "result"
   ]
  },
  {
   "cell_type": "markdown",
   "metadata": {},
   "source": [
    "# Graph"
   ]
  },
  {
   "cell_type": "code",
   "execution_count": 44,
   "metadata": {},
   "outputs": [],
   "source": [
    "classifier = ML_Model\n",
    "y_pos = np.arange(len(classifier))"
   ]
  },
  {
   "cell_type": "markdown",
   "metadata": {},
   "source": [
    "# Accuracy"
   ]
  },
  {
   "cell_type": "code",
   "execution_count": 45,
   "metadata": {},
   "outputs": [
    {
     "data": {
      "image/png": "[encoded data removed]",
      "text/plain": [
       "<Figure size 432x288 with 1 Axes>"
      ]
     },
     "metadata": {
      "needs_background": "light"
     },
     "output_type": "display_data"
    }
   ],
   "source": [
    "import matplotlib.pyplot as plt2\n",
    "plt2.barh(y_pos, accuracy, align='center', alpha=0.5,color='blue')\n",
    "plt2.yticks(y_pos, classifier)\n",
    "plt2.xlabel('Accuracy Score')\n",
    "plt2.title('Classification Performance')\n",
    "plt2.show()"
   ]
  },
  {
   "cell_type": "markdown",
   "metadata": {},
   "source": [
    "# Precision"
   ]
  },
  {
   "cell_type": "code",
   "execution_count": 46,
   "metadata": {},
   "outputs": [
    {
     "data": {
      "image/png": "[encoded data removed]",
      "text/plain": [
       "<Figure size 432x288 with 1 Axes>"
      ]
     },
     "metadata": {
      "needs_background": "light"
     },
     "output_type": "display_data"
    }
   ],
   "source": [
    "plt2.barh(y_pos, precision, align='center', alpha=0.5,color='red')\n",
    "plt2.yticks(y_pos, classifier)\n",
    "plt2.xlabel('Precision Score')\n",
    "plt2.title('Classification Performance')\n",
    "plt2.show()"
   ]
  },
  {
   "cell_type": "markdown",
   "metadata": {},
   "source": [
    "# Recall"
   ]
  },
  {
   "cell_type": "code",
   "execution_count": 47,
   "metadata": {},
   "outputs": [
    {
     "data": {
      "image/png": "[encoded data removed]",
      "text/plain": [
       "<Figure size 432x288 with 1 Axes>"
      ]
     },
     "metadata": {
      "needs_background": "light"
     },
     "output_type": "display_data"
    }
   ],
   "source": [
    "plt2.barh(y_pos, recall, align='center', alpha=0.5,color='cyan')\n",
    "plt2.yticks(y_pos, classifier)\n",
    "plt2.xlabel('Recall Score')\n",
    "plt2.title('Classification Performance')\n",
    "plt2.show()"
   ]
  },
  {
   "cell_type": "markdown",
   "metadata": {},
   "source": [
    "# F1 Score"
   ]
  },
  {
   "cell_type": "code",
   "execution_count": 48,
   "metadata": {},
   "outputs": [
    {
     "data": {
      "image/png": "[encoded data removed]",
      "text/plain": [
       "<Figure size 432x288 with 1 Axes>"
      ]
     },
     "metadata": {
      "needs_background": "light"
     },
     "output_type": "display_data"
    }
   ],
   "source": [
    "plt2.barh(y_pos, f1score, align='center', alpha=0.5,color='magenta')\n",
    "plt2.yticks(y_pos, classifier)\n",
    "plt2.xlabel('F1 Score')\n",
    "plt2.title('Classification Performance')\n",
    "plt2.show()"
   ]
  },
  {
   "cell_type": "markdown",
   "metadata": {},
   "source": [
    "# Specificity"
   ]
  },
  {
   "cell_type": "code",
   "execution_count": 49,
   "metadata": {},
   "outputs": [
    {
     "data": {
      "image/png": "[encoded data removed]",
      "text/plain": [
       "<Figure size 432x288 with 1 Axes>"
      ]
     },
     "metadata": {
      "needs_background": "light"
     },
     "output_type": "display_data"
    }
   ],
   "source": [
    "plt2.barh(y_pos, spec, align='center', alpha=0.5,color='green')\n",
    "plt2.yticks(y_pos, classifier)\n",
    "plt2.xlabel('Specificity')\n",
    "plt2.title('Classification Performance')\n",
    "plt2.show()"
   ]
  },
  {
   "cell_type": "markdown",
   "metadata": {},
   "source": [
    "# Error Rate"
   ]
  },
  {
   "cell_type": "code",
   "execution_count": 50,
   "metadata": {},
   "outputs": [
    {
     "data": {
      "image/png": "[encoded data removed]",
      "text/plain": [
       "<Figure size 432x288 with 1 Axes>"
      ]
     },
     "metadata": {
      "needs_background": "light"
     },
     "output_type": "display_data"
    }
   ],
   "source": [
    "plt2.barh(y_pos, errate, align='center', alpha=0.5,color='brown')\n",
    "plt2.yticks(y_pos, classifier)\n",
    "plt2.xlabel('Error Rate')\n",
    "plt2.title('Classification Performance')\n",
    "plt2.show()"
   ]
  },
  {
   "cell_type": "markdown",
   "metadata": {},
   "source": [
    "# Modelling"
   ]
  },
  {
   "cell_type": "code",
   "execution_count": 51,
   "metadata": {},
   "outputs": [
    {
     "data": {
      "text/plain": [
       "['model.sav']"
      ]
     },
     "execution_count": 51,
     "metadata": {},
     "output_type": "execute_result"
    }
   ],
   "source": [
    "import joblib\n",
    "filename = 'model.sav'\n",
    "joblib.dump(eclf2, filename)"
   ]
  },
  {
   "cell_type": "code",
   "execution_count": null,
   "metadata": {},
   "outputs": [],
   "source": []
  }
 ],
 "metadata": {
  "kernelspec": {
   "display_name": "Python 3",
   "language": "python",
   "name": "python3"
  },
  "language_info": {
   "codemirror_mode": {
    "name": "ipython",
    "version": 3
   },
   "file_extension": ".py",
   "mimetype": "text/x-python",
   "name": "python",
   "nbconvert_exporter": "python",
   "pygments_lexer": "ipython3",
   "version": "3.7.4"
  }
 },
 "nbformat": 4,
 "nbformat_minor": 2
}
